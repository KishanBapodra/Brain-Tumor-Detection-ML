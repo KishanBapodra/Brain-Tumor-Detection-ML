{
 "cells": [
  {
   "cell_type": "markdown",
   "metadata": {},
   "source": [
    "# F20DL: COURSEWORK LAB"
   ]
  },
  {
   "cell_type": "markdown",
   "metadata": {},
   "source": [
    "## Lab 1:  \n",
    "\n",
    "All the group members before the lab searched for datasets to use for the coursework. We narrowed down to three datasets which are as follows:"
   ]
  },
  {
   "cell_type": "markdown",
   "metadata": {},
   "source": [
    "### Dataset: *Scenery classification*  \n",
    "\n",
    "Link: https://www.kaggle.com/datasets/nitishabharathi/scene-classification?select=test_WyRytb0.csv  \n",
    "\n",
    "#### Pros:\n",
    "1. Dataset with both train data and test data.\n",
    "2. No missing images and well documented.\n",
    "3. Great Usability score on Kaggle.\n",
    " \n",
    "#### Cons:\n",
    "1. Large set of images, would need more processing.  "
   ]
  },
  {
   "cell_type": "markdown",
   "metadata": {},
   "source": [
    "### Dataset: *Brain Stroke*  \n",
    "\n",
    "Link: https://www.kaggle.com/datasets/jillanisofttech/brain-stroke-dataset?select=brain_stroke.csv  \n",
    "Original Dataset: https://www.kaggle.com/datasets/fedesoriano/stroke-prediction-dataset\n",
    "\n",
    "Brain Stroke is a major medical condition with severe consequences. It is the result of poor blood flow to the brain, which causes the cells to die.\n",
    "\n",
    "There are two main types of stroke:\n",
    "- Ischemic: Due to lack of blood flow\n",
    "- Hemorrhagic: Due to bleeding\n",
    "\n",
    "> The main goal of choosing this dataset is to be able to detect the possibility of brain stroke in a person. This could help in prevention at an early stage.\n",
    "\n",
    "#### PROS:\n",
    "\n",
    "1. Dataset has high usability rate\n",
    "2. Dataset is clean with no missing values\n",
    "3. Clearly defined features which will be helpful in training the model\n",
    "4. Well documented and easy to understand\n",
    "\n",
    "#### CONS:\n",
    "\n",
    "1. Possible ethical concern regarding health issue\n",
    "2. Slight variability in certain features"
   ]
  },
  {
   "cell_type": "markdown",
   "metadata": {},
   "source": [
    "### Dataset: *Seoul Bike Sharing Demand*\n",
    "\n",
    "Link: https://archive.ics.uci.edu/ml/datasets/Seoul+Bike+Sharing+Demand"
   ]
  },
  {
   "cell_type": "markdown",
   "metadata": {},
   "source": [
    "After talking to our lab tutor for guidance on what dataset/datasets to finalize, we decided to use brain stroke and scenery classification datasets for the coursework.  \n",
    "> We will use brain stroke dataset for most of the coursework and switch to scenery classification for the part of the coursework where we use CNN."
   ]
  },
  {
   "cell_type": "code",
   "execution_count": null,
   "metadata": {},
   "outputs": [],
   "source": []
  }
 ],
 "metadata": {
  "kernelspec": {
   "display_name": "Python 3",
   "language": "python",
   "name": "python3"
  },
  "language_info": {
   "codemirror_mode": {
    "name": "ipython",
    "version": 3
   },
   "file_extension": ".py",
   "mimetype": "text/x-python",
   "name": "python",
   "nbconvert_exporter": "python",
   "pygments_lexer": "ipython3",
   "version": "3.8.5"
  },
  "vscode": {
   "interpreter": {
    "hash": "916dbcbb3f70747c44a77c7bcd40155683ae19c65e1c03b4aa3499c5328201f1"
   }
  }
 },
 "nbformat": 4,
 "nbformat_minor": 2
}
