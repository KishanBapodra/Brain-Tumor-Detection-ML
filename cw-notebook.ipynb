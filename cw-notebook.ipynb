{
 "cells": [
  {
   "cell_type": "markdown",
   "metadata": {},
   "source": [
    "#### Lab 1:  \n",
    "\n",
    "All the group members before the lab searched for datasets to use for the coursework. We narrowed down to three datasets which are as follows:\n",
    "\n",
    "> Dataset: *Scenery classification*  \n",
    "> Link: https://www.kaggle.com/datasets/nitishabharathi/scene-classification?select=test_WyRytb0.csv  \n",
    ">\n",
    "> Pros:\n",
    "> 1. Dataset with both train data and test data.\n",
    "> 2. No missing images and well documented.\n",
    "> 3. Great Usability score on Kaggle.\n",
    ">  \n",
    "> Cons:\n",
    "> 1. Large set of images, would need more processing.  \n",
    "\n",
    "> Dataset: *Brain Stroke*  \n",
    "> Link: https://www.kaggle.com/datasets/jillanisofttech/brain-stroke-dataset?select=brain_stroke.csv  \n",
    "\n",
    "> Dataset: *Seoul Bike Sharing Demand*\n",
    "> Link: https://archive.ics.uci.edu/ml/datasets/Seoul+Bike+Sharing+Demand\n",
    "\n",
    "After talking to our lab tutor for guidance on what dataset/datasets to finalize, we decided to use brain stroke and scenery classification datasets for the coursework.  \n",
    "We will use brain stroke dataset for most of the coursework and switch to scenery classification for the part of the coursework where we use CNN."
   ]
  }
 ],
 "metadata": {
  "kernelspec": {
   "display_name": "Python 3.9.7 64-bit",
   "language": "python",
   "name": "python3"
  },
  "language_info": {
   "name": "python",
   "version": "3.9.7"
  },
  "orig_nbformat": 4,
  "vscode": {
   "interpreter": {
    "hash": "916dbcbb3f70747c44a77c7bcd40155683ae19c65e1c03b4aa3499c5328201f1"
   }
  }
 },
 "nbformat": 4,
 "nbformat_minor": 2
}
