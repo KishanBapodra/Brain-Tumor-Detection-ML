{
 "cells": [
  {
   "cell_type": "markdown",
   "metadata": {},
   "source": [
    "# NAIVE BAYES COMPARISON"
   ]
  },
  {
   "cell_type": "markdown",
   "metadata": {},
   "source": [
    "| Naive Bayes Algorithm | Accuracy | TP | FP | FN | TN | Sensitivity | Specificity | Precision | Recall | ROC_AUC |\n",
    "|-----------------------|----------|----|----|----|----|-------------|-------------|-----------|--------|---------|\n",
    "| MultinomialNB         | 0.65     |2068|1256|292 |852 | 0.74        | 0.40        | 0.40      | 0.74   | 0.67    |\n",
    "| GaussianNB            | 0.76     |2786|538 |485 |659 | 0.57        | 0.55        | 0.55      | 0.57   | 0.67    |\n",
    "| ComplementNB          | 0.66     |2153|1171|322 |822 | 0.71        | 0.41        | 0.41      | 0.71   | 0.67    |\n",
    "| BernoulliNB           | 0.75     |2989|335 |751 |393 | 0.34        | 0.53        | 0.53      | 0.34   | 0.61    |\n",
    "| CategoricalNB         | 0.80     |2780|544 |343 |801 | 0.70        | 0.59        | 0.59      | 0.70   | 0.77    |"
   ]
  },
  {
   "cell_type": "code",
   "execution_count": null,
   "metadata": {},
   "outputs": [],
   "source": []
  }
 ],
 "metadata": {
  "kernelspec": {
   "display_name": "Python 3",
   "language": "python",
   "name": "python3"
  },
  "language_info": {
   "codemirror_mode": {
    "name": "ipython",
    "version": 3
   },
   "file_extension": ".py",
   "mimetype": "text/x-python",
   "name": "python",
   "nbconvert_exporter": "python",
   "pygments_lexer": "ipython3",
   "version": "3.8.5"
  }
 },
 "nbformat": 4,
 "nbformat_minor": 4
}
